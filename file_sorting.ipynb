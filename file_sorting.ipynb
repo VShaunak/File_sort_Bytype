{
 "cells": [
  {
   "cell_type": "code",
   "execution_count": 97,
   "metadata": {},
   "outputs": [],
   "source": [
    "import os, shutil"
   ]
  },
  {
   "cell_type": "code",
   "execution_count": 98,
   "metadata": {},
   "outputs": [],
   "source": [
    "path=\"C:/Users/shaun/Desktop/Data Analysis YT/Python/file_sorting/\"\n"
   ]
  },
  {
   "cell_type": "code",
   "execution_count": 99,
   "metadata": {},
   "outputs": [
    {
     "name": "stdout",
     "output_type": "stream",
     "text": [
      "3\n"
     ]
    }
   ],
   "source": [
    "file_name=os.listdir(path)\n",
    "file_counter=len(file_name)\n",
    "print(file_counter)"
   ]
  },
  {
   "cell_type": "code",
   "execution_count": 100,
   "metadata": {},
   "outputs": [],
   "source": [
    "for loop in range(0, file_counter):\n",
    "    if not \".pdf\" in file_name[loop] and not os.path.exists(path + \"pdf\"):\n",
    "        os.makedirs(path + \"pdf\")\n",
    "    elif not \".docx\" in file_name[loop] and not os.path.exists(path + \"docx\"):\n",
    "        os.makedirs(path + \"docx\")\n",
    "    elif not \".jpg\" in file_name[loop] and not os.path.exists(path + \"jpg\"):\n",
    "        os.makedirs(path + \"jpg\")\n",
    "\n",
    "\n",
    "\n",
    "for n in range(0, file_counter):\n",
    "    if \".pdf\" in file_name[n] and not os.path.exists(path+\"pdf/\"+file_name[n]):\n",
    "        shutil.move(path+file_name[n],path+\"pdf/\"+file_name[n])\n",
    "    elif \".docx\" in file_name[n] and not os.path.exists(path+\"pdf/\"+file_name[n]):\n",
    "        shutil.move(path+file_name[n],path+\"docx/\"+file_name[n])\n",
    "    elif \".jpg\" in file_name[n] and not os.path.exists(path+\"pdf/\"+file_name[n]):\n",
    "        shutil.move(path+file_name[n],path+\"jpg/\"+file_name[n])"
   ]
  },
  {
   "cell_type": "code",
   "execution_count": null,
   "metadata": {},
   "outputs": [],
   "source": []
  }
 ],
 "metadata": {
  "kernelspec": {
   "display_name": "Python 3",
   "language": "python",
   "name": "python3"
  },
  "language_info": {
   "codemirror_mode": {
    "name": "ipython",
    "version": 3
   },
   "file_extension": ".py",
   "mimetype": "text/x-python",
   "name": "python",
   "nbconvert_exporter": "python",
   "pygments_lexer": "ipython3",
   "version": "3.12.0"
  }
 },
 "nbformat": 4,
 "nbformat_minor": 2
}
